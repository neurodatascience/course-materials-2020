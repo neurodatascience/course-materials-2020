{
 "cells": [
  {
   "cell_type": "code",
   "execution_count": null,
   "metadata": {
    "slideshow": {
     "slide_type": "skip"
    }
   },
   "outputs": [],
   "source": [
    "cd ~"
   ]
  },
  {
   "cell_type": "markdown",
   "metadata": {
    "slideshow": {
     "slide_type": "slide"
    }
   },
   "source": [
    "# A brief introduction to the bash shell\n",
    "Presented for QLSC 612, [Fundamentals of Neuro Data Science 2020](https://neurodatasci-course-2020.netlify.app) by [Ross Markello](https://rossmarkello.com).\n",
    "\n",
    "Based on the Software Carpentries [\"Introduction to the Shell\"](https://swcarpentry.github.io/shell-novice/)."
   ]
  },
  {
   "cell_type": "markdown",
   "metadata": {
    "slideshow": {
     "slide_type": "subslide"
    }
   },
   "source": [
    "## Before we get started...\n",
    "    \n",
    "We're going to be working with a dataset from https://swcarpentry.github.io/shell-novice/data/data-shell.zip.\n",
    "\n",
    "Download that file and unzip it on your Desktop!\n",
    "\n",
    "(I'll post the link in the Zoom chat so you can just click on it.)"
   ]
  },
  {
   "cell_type": "markdown",
   "metadata": {
    "slideshow": {
     "slide_type": "slide"
    }
   },
   "source": [
    "## What is the \"shell\"?\n",
    "\n",
    "* The shell is a **command-line interface** (CLI) to your computer\n",
    "    * This is in contrast to the **graphical user interfaces** (GUIs) that you normally use!\n",
    "* The shell is _also_ a scripting language that can be used to automate repetitive tasks"
   ]
  },
  {
   "cell_type": "markdown",
   "metadata": {
    "slideshow": {
     "slide_type": "subslide"
    }
   },
   "source": [
    "### But what's this \"bash shell\"?\n",
    "\n",
    "It's one of many available shells!\n",
    "\n",
    "* `sh` - Bourne **SH**ell\n",
    "* `ksh` - **K**orn **SH**ell\n",
    "* `dash` - **D**ebian **A**lmquist **SH**ell\n",
    "* `csh` - **C** **SH**ell\n",
    "* `tcsh` - **T**ENEX **C** **SH**ell\n",
    "* `zsh` - **Z** **SH**ell\n",
    "* `bash` - **B**ourne **A**gain **SH**ell  <-- We'll focus on this one!"
   ]
  },
  {
   "cell_type": "markdown",
   "metadata": {
    "slideshow": {
     "slide_type": "subslide"
    }
   },
   "source": [
    "### WHY SO MANY?!"
   ]
  },
  {
   "cell_type": "markdown",
   "metadata": {
    "slideshow": {
     "slide_type": "fragment"
    }
   },
   "source": [
    "<img src=\"https://www.nationalgeographic.com/content/dam/yourshot/2014/05/3579113.jpg\" width=\"400px\" style=\"margin-bottom: 10px;\">"
   ]
  },
  {
   "cell_type": "markdown",
   "metadata": {
    "slideshow": {
     "slide_type": "fragment"
    }
   },
   "source": [
    "* They all have different strengths / weaknesses\n",
    "* You will see many of them throughout much of neuroimaging software, too!\n",
    "    * `sh` is most frequently used in FSL\n",
    "    * `csh`/`tcsh` is very common in FreeSurfer and AFNI"
   ]
  },
  {
   "cell_type": "markdown",
   "metadata": {
    "slideshow": {
     "slide_type": "subslide"
    }
   },
   "source": [
    "### So we're going to focus on the bash shell?\n",
    "\n",
    "Yes! It's perhaps **the most common** shell, available on almost every OS:\n",
    "\n",
    "* It's the default shell on most Linux systems\n",
    "* It's the default shell in the Windows Subsytem for Linux (WSL)\n",
    "* It's the default shell on Mac <=10.14\n",
    "    * `zsh` is the new default on Mac Catalina (for licensing reasons 🙄)\n",
    "    * But `bash` is still available!!"
   ]
  },
  {
   "cell_type": "markdown",
   "metadata": {
    "slideshow": {
     "slide_type": "subslide"
    }
   },
   "source": [
    "### Alright, but why use the shell at all?\n",
    "\n",
    "Isn't the GUI good enough?\n",
    "\n",
    "* Yes, but the shell is **very powerful**\n",
    "* Sequences of shell commands can be strung together to quickly and reproducibly make powerful pipelines\n",
    "* Also, you need to use the shell to accesss remote machine / high-performance computing environments (like on Wednesday!)"
   ]
  },
  {
   "cell_type": "markdown",
   "metadata": {
    "slideshow": {
     "slide_type": "fragment"
    }
   },
   "source": [
    "**NOTE:** We will not be able to cover all (or even most) aspects of the shell today. \n",
    "\n",
    "But, we'll get through some _basics_ that you can build on in the coming weeks."
   ]
  },
  {
   "cell_type": "markdown",
   "metadata": {
    "slideshow": {
     "slide_type": "subslide"
    }
   },
   "source": [
    "### You already used the bash shell!\n",
    "\n",
    "🎉 At _multiple_ points throughout the installation instructions 🎉"
   ]
  },
  {
   "cell_type": "markdown",
   "metadata": {
    "slideshow": {
     "slide_type": "fragment"
    }
   },
   "source": [
    "But at the very least, explicitly on this last command when you were checking your setup:\n",
    "\n",
    "```bash\n",
    "bash <( curl -s https://neurodatasci-course-2020.netlify.app/resources/nds_check_install.sh )\n",
    "```"
   ]
  },
  {
   "cell_type": "markdown",
   "metadata": {
    "slideshow": {
     "slide_type": "slide"
    }
   },
   "source": [
    "## The (bash) shell\n",
    "\n",
    "Now, let's open up your terminal!\n",
    "\n",
    "* **Windows**: Open the Ubuntu application\n",
    "* **Mac/Linux**: Open the Terminal"
   ]
  },
  {
   "cell_type": "markdown",
   "metadata": {
    "slideshow": {
     "slide_type": "fragment"
    }
   },
   "source": [
    "\n",
    "When the shell is first opened, you are presented with a prompt, indicating that the shell is waiting for input:\n",
    "\n",
    "\n",
    "```\n",
    "$\n",
    "```\n",
    "\n",
    "\n",
    "The shell typically uses `$` as the prompt, but may use a different symbol."
   ]
  },
  {
   "cell_type": "markdown",
   "metadata": {
    "slideshow": {
     "slide_type": "fragment"
    }
   },
   "source": [
    "**IMPORTANT:** When typing commands, either in this lesson or from other sources, **do not type the prompt**, only the commands that follow it!"
   ]
  },
  {
   "cell_type": "markdown",
   "metadata": {
    "slideshow": {
     "slide_type": "subslide"
    }
   },
   "source": [
    "### Am I using bash?\n",
    "\n",
    "Let's check! You can use the following command to determine what shell you're using:"
   ]
  },
  {
   "cell_type": "code",
   "execution_count": null,
   "metadata": {
    "slideshow": {
     "slide_type": "fragment"
    }
   },
   "outputs": [],
   "source": [
    "echo $SHELL"
   ]
  },
  {
   "cell_type": "markdown",
   "metadata": {
    "slideshow": {
     "slide_type": "fragment"
    }
   },
   "source": [
    "If that doesn't say something like `/bin/bash`, then simply type `bash`, press Enter, and try running the command again.\n",
    "\n",
    "Voila! You're now in the bash shell."
   ]
  },
  {
   "cell_type": "markdown",
   "metadata": {
    "slideshow": {
     "slide_type": "fragment"
    }
   },
   "source": [
    "**Note**: The `echo` command does exactly what its name implies: it simply echoes whatever we provide it to the screen!\n",
    "\n",
    "(It's like `print` in Python / R or `disp` in MATLAB or `printf` in C or ...)"
   ]
  },
  {
   "cell_type": "markdown",
   "metadata": {
    "slideshow": {
     "slide_type": "subslide"
    }
   },
   "source": [
    "### What's with the `$SHELL`?\n",
    "\n",
    "* Things prefixed with `$` in bash are (mostly) **environmental variable** \n",
    "    * All programming languages have variables!\n",
    "* We can assign variables in bash but when we want to reference them we need to add the `$` prefix\n",
    "* We'll dig into this a bit more later, but by default our shell comes with some preset variables\n",
    "    * `$SHELL` is one of them!"
   ]
  },
  {
   "cell_type": "markdown",
   "metadata": {
    "slideshow": {
     "slide_type": "subslide"
    }
   },
   "source": [
    "Soooo, let's try our ~first~ second command in bash!\n",
    "\n",
    "This command lists the contents of our current directory:"
   ]
  },
  {
   "cell_type": "code",
   "execution_count": null,
   "metadata": {
    "slideshow": {
     "slide_type": "fragment"
    }
   },
   "outputs": [],
   "source": [
    "ls"
   ]
  },
  {
   "cell_type": "markdown",
   "metadata": {
    "slideshow": {
     "slide_type": "fragment"
    }
   },
   "source": [
    "What happens if we make a typo? Or if the program we want isn't installed on our computer?\n",
    "\n",
    "Will the computer magically understand what we were trying to do?"
   ]
  },
  {
   "cell_type": "code",
   "execution_count": null,
   "metadata": {
    "slideshow": {
     "slide_type": "fragment"
    }
   },
   "outputs": [],
   "source": [
    "ks"
   ]
  },
  {
   "cell_type": "markdown",
   "metadata": {
    "slideshow": {
     "slide_type": "fragment"
    }
   },
   "source": [
    "Nope! But you will get a (moderately) helpful error message 😁"
   ]
  },
  {
   "cell_type": "markdown",
   "metadata": {
    "slideshow": {
     "slide_type": "subslide"
    }
   },
   "source": [
    "### The cons of the CLI\n",
    "\n",
    "* You need to know the names of the commands you want to run!\n",
    "* Sometimes, commands are not immediately obvious\n",
    "    * E.g., why `ls` over `list_contents`?"
   ]
  },
  {
   "cell_type": "markdown",
   "metadata": {
    "slideshow": {
     "slide_type": "subslide"
    }
   },
   "source": [
    "### Key Points\n",
    "\n",
    "* A shell is a program whose primary purpose is to accepts commands and run programs\n",
    "* The shell’s main advantages are its high action-to-keystroke ratio, its support for automating repetitive tasks, and its capacity to access remote machines\n",
    "* The shell’s main disadvantages are its primarily textual nature and how cryptic its commands and operation can be"
   ]
  },
  {
   "cell_type": "markdown",
   "metadata": {
    "slideshow": {
     "slide_type": "slide"
    }
   },
   "source": [
    "## Navigating Files and Directories\n",
    "\n",
    "* The **file system** is the part of our operating system for managing files and directories\n",
    "* There are a lot of commands to create/inspect/rename/delete files + directories\n",
    "    * Indeed these are perhaps the most common commands you'll be using in the shell!"
   ]
  },
  {
   "cell_type": "markdown",
   "metadata": {
    "slideshow": {
     "slide_type": "subslide"
    }
   },
   "source": [
    "### So where are we right now?\n",
    "\n",
    "* When we open our terminal we are placed *somewhere* in the file system!\n",
    "    * At any time while using the shell we are in exactly one place\n",
    "* Commands mostly read / write / operate on files wherever we are, so it's important to know that!\n",
    "* We can find our **current working directory** with the following command:"
   ]
  },
  {
   "cell_type": "code",
   "execution_count": null,
   "metadata": {
    "slideshow": {
     "slide_type": "fragment"
    }
   },
   "outputs": [],
   "source": [
    "pwd"
   ]
  },
  {
   "cell_type": "markdown",
   "metadata": {
    "slideshow": {
     "slide_type": "fragment"
    }
   },
   "source": [
    "* Many bash commands are acronyms or abbreviations (to try and help you remember them).\n",
    "    * The above command, `pwd`, is an acronym for \"**p**rint **w**orking **d**irectory\">"
   ]
  },
  {
   "cell_type": "markdown",
   "metadata": {
    "slideshow": {
     "slide_type": "subslide"
    }
   },
   "source": [
    "### OS-dependent paths\n",
    "\n",
    "* The printed directory may look different depending on your operating system\n",
    "    * Though if you're all on Linux / Mac / WSL it _should_ look something like the above...\n",
    "* On Windows you may see something like: `C:\\Users\\rmarkello`\n",
    "    * We'll be assuming the `/Users/rmarkello` notation for the rest of these examples!"
   ]
  },
  {
   "cell_type": "markdown",
   "metadata": {
    "slideshow": {
     "slide_type": "subslide"
    }
   },
   "source": [
    "### The file system\n",
    "\n",
    "Let's take a look at an example file-system:\n",
    "\n",
    "<img src=\"http://swcarpentry.github.io/shell-novice/fig/filesystem.svg\" width=\"400px\" style=\"margin-bottom: 10px;\">"
   ]
  },
  {
   "cell_type": "markdown",
   "metadata": {
    "slideshow": {
     "slide_type": "fragment"
    }
   },
   "source": [
    "* The top is the **root directory**, which holds the ENTIRE FILE SYSTEM.\n",
    "* Inside are several other directories:\n",
    "    * `bin` contains some built-in programs\n",
    "    * `data` is where we store miscellaneous data files\n",
    "    * `Users` is where personal user directories are\n",
    "    * `tmp` is for temporary storage of files\n",
    "* Our current directory is inside `Users`!"
   ]
  },
  {
   "cell_type": "markdown",
   "metadata": {
    "slideshow": {
     "slide_type": "fragment"
    }
   },
   "source": [
    "#### The `/` character\n",
    "\n",
    "* Refers to the root directory when it appears at the start of a path\n",
    "* Is used as a separator between directories when it appears inside a path"
   ]
  },
  {
   "cell_type": "markdown",
   "metadata": {
    "slideshow": {
     "slide_type": "subslide"
    }
   },
   "source": [
    "### Inside `Users`\n",
    "\n",
    "<img src=\"http://swcarpentry.github.io/shell-novice/fig/home-directories.svg\" width=\"400px\" style=\"margin-bottom: 10px;\">"
   ]
  },
  {
   "cell_type": "markdown",
   "metadata": {
    "slideshow": {
     "slide_type": "fragment"
    }
   },
   "source": [
    "* The `Users` directory contains different folders for the different users on your computer\n",
    "* If you are the only user on your computer then there is likely only one!\n",
    "    * But shared computers can have multiple\n",
    "* When you open a new terminal it defaults to your home directory (e.g., `/Users/nelle`)"
   ]
  },
  {
   "cell_type": "markdown",
   "metadata": {
    "slideshow": {
     "slide_type": "subslide"
    }
   },
   "source": [
    "So let's remind ourselves how to see where we are and figure out what's in our directory:"
   ]
  },
  {
   "cell_type": "code",
   "execution_count": null,
   "metadata": {
    "slideshow": {
     "slide_type": "fragment"
    }
   },
   "outputs": [],
   "source": [
    "pwd"
   ]
  },
  {
   "cell_type": "code",
   "execution_count": null,
   "metadata": {
    "slideshow": {
     "slide_type": "fragment"
    }
   },
   "outputs": [],
   "source": [
    "ls"
   ]
  },
  {
   "cell_type": "markdown",
   "metadata": {
    "slideshow": {
     "slide_type": "fragment"
    }
   },
   "source": [
    "(Your results are likely different than this!)"
   ]
  },
  {
   "cell_type": "markdown",
   "metadata": {
    "slideshow": {
     "slide_type": "subslide"
    }
   },
   "source": [
    "`ls`, as we saw before, prints the contents of your **current working directory**. \n",
    "\n",
    "We can make it tell us a bit more information about our directory by providing an **option** to the `ls` command:"
   ]
  },
  {
   "cell_type": "code",
   "execution_count": null,
   "metadata": {
    "slideshow": {
     "slide_type": "fragment"
    }
   },
   "outputs": [],
   "source": [
    "ls -F"
   ]
  },
  {
   "cell_type": "markdown",
   "metadata": {
    "slideshow": {
     "slide_type": "fragment"
    }
   },
   "source": [
    "This `-F` option adds a helpful marker to the end of each of the listed contents:\n",
    "\n",
    "* A `/` indicates it's a directory\n",
    "* A `@` indicates it's a link\n",
    "* A `*` indicates it's an executable\n",
    "\n",
    "(Your contents may also be color coded depending on your default options!)"
   ]
  },
  {
   "cell_type": "markdown",
   "metadata": {
    "slideshow": {
     "slide_type": "fragment"
    }
   },
   "source": [
    "Note: our home directory contains only **sub-directories**."
   ]
  },
  {
   "cell_type": "markdown",
   "metadata": {
    "slideshow": {
     "slide_type": "subslide"
    }
   },
   "source": [
    "### General syntax of a shell command\n",
    "\n",
    "Consider this command as a general example:"
   ]
  },
  {
   "cell_type": "code",
   "execution_count": null,
   "metadata": {
    "slideshow": {
     "slide_type": "fragment"
    }
   },
   "outputs": [],
   "source": [
    "ls -F /"
   ]
  },
  {
   "cell_type": "markdown",
   "metadata": {
    "slideshow": {
     "slide_type": "fragment"
    }
   },
   "source": [
    "We have:\n",
    "\n",
    "1. A **command** (`ls`), \n",
    "2. An **option** (`-F`), also called a **flag** or a **switch**, and\n",
    "3. An **argument** (`/`)"
   ]
  },
  {
   "cell_type": "markdown",
   "metadata": {
    "slideshow": {
     "slide_type": "subslide"
    }
   },
   "source": [
    "#### Options (a.k.a. flags, switches)\n",
    "\n",
    "* Options change the behavior of a command\n",
    "* They generally start with either a `-` or `--`\n",
    "* They are case sensitive!"
   ]
  },
  {
   "cell_type": "markdown",
   "metadata": {
    "slideshow": {
     "slide_type": "fragment"
    }
   },
   "source": [
    "For example, `ls -s` will display the size of the contents of the provided directory:"
   ]
  },
  {
   "cell_type": "code",
   "execution_count": null,
   "metadata": {
    "slideshow": {
     "slide_type": "fragment"
    }
   },
   "outputs": [],
   "source": [
    "ls -s Desktop/data-shell/data"
   ]
  },
  {
   "cell_type": "markdown",
   "metadata": {
    "slideshow": {
     "slide_type": "fragment"
    }
   },
   "source": [
    "Whereas `ls -S` will sort the contents of the provided directory *by size*:"
   ]
  },
  {
   "cell_type": "code",
   "execution_count": null,
   "metadata": {
    "slideshow": {
     "slide_type": "fragment"
    }
   },
   "outputs": [],
   "source": [
    "ls -S Desktop/data-shell/data"
   ]
  },
  {
   "cell_type": "markdown",
   "metadata": {
    "slideshow": {
     "slide_type": "subslide"
    }
   },
   "source": [
    "#### Options (cont'd)\n",
    "\n",
    "What happens if I type an invalid option?"
   ]
  },
  {
   "cell_type": "code",
   "execution_count": null,
   "metadata": {
    "slideshow": {
     "slide_type": "fragment"
    }
   },
   "outputs": [],
   "source": [
    "ls -j"
   ]
  },
  {
   "cell_type": "markdown",
   "metadata": {
    "slideshow": {
     "slide_type": "fragment"
    }
   },
   "source": [
    "Again, we get a (somewhat) helpful error message!"
   ]
  },
  {
   "cell_type": "markdown",
   "metadata": {
    "slideshow": {
     "slide_type": "subslide"
    }
   },
   "source": [
    "#### Arguments (a.k.a parameters)\n",
    "\n",
    "* These tell the command what to operate on!\n",
    "* They are only *sometimes* optional (as with `ls`)\n",
    "    * In these cases, providing them will also change the behavior of the command!"
   ]
  },
  {
   "cell_type": "code",
   "execution_count": null,
   "metadata": {
    "slideshow": {
     "slide_type": "fragment"
    }
   },
   "outputs": [],
   "source": [
    "ls"
   ]
  },
  {
   "cell_type": "code",
   "execution_count": null,
   "metadata": {
    "slideshow": {
     "slide_type": "fragment"
    }
   },
   "outputs": [],
   "source": [
    "ls Desktop/data-shell/data"
   ]
  },
  {
   "cell_type": "markdown",
   "metadata": {
    "slideshow": {
     "slide_type": "subslide"
    }
   },
   "source": [
    "#### Getting help\n",
    "\n",
    "`ls` has **lots** of options. How can we find out about them?\n",
    "\n",
    "Either `man ls` or `ls --help`!\n",
    "\n",
    "This will vary depending on: (1) the command and (2) your operating system!\n",
    "\n",
    "Generally try `man` first:"
   ]
  },
  {
   "cell_type": "code",
   "execution_count": null,
   "metadata": {
    "scrolled": true,
    "slideshow": {
     "slide_type": "fragment"
    }
   },
   "outputs": [],
   "source": [
    "man ls"
   ]
  },
  {
   "cell_type": "markdown",
   "metadata": {
    "slideshow": {
     "slide_type": "fragment"
    }
   },
   "source": [
    "When you run that command in a terminal, your terminal will be turned into a page that can be navigated via:\n",
    "\n",
    "* The `↑` / `↓` arrows (move up/down one line)\n",
    "* The `B` / `Spacebar` keys (move up/down one page), or t\n",
    "* The scroll bar (if you're lucky!)\n",
    "\n",
    "To quit and get your \"old\" terminal back, press `q`!"
   ]
  },
  {
   "cell_type": "markdown",
   "metadata": {
    "slideshow": {
     "slide_type": "subslide"
    }
   },
   "source": [
    "### Combining options\n",
    "\n",
    "You can use multiple options at the same time! If the options are single letters (like most of those with `ls`), you can combine them with the same `-` flag:"
   ]
  },
  {
   "cell_type": "code",
   "execution_count": null,
   "metadata": {
    "slideshow": {
     "slide_type": "fragment"
    }
   },
   "outputs": [],
   "source": [
    "ls -sS Desktop/data-shell/data"
   ]
  },
  {
   "cell_type": "markdown",
   "metadata": {
    "slideshow": {
     "slide_type": "subslide"
    }
   },
   "source": [
    "### Exercise:\n",
    "\n",
    "1. Using the `man ls`, find out how the `-l` option should change the behavior of `ls`."
   ]
  },
  {
   "cell_type": "code",
   "execution_count": null,
   "metadata": {
    "slideshow": {
     "slide_type": "fragment"
    }
   },
   "outputs": [],
   "source": [
    "ls -l Desktop/data-shell/data"
   ]
  },
  {
   "cell_type": "markdown",
   "metadata": {
    "slideshow": {
     "slide_type": "fragment"
    }
   },
   "source": [
    "2. Now, find out how the `-h` option should change the behavior of `ls`."
   ]
  },
  {
   "cell_type": "code",
   "execution_count": null,
   "metadata": {
    "slideshow": {
     "slide_type": "fragment"
    }
   },
   "outputs": [],
   "source": [
    "ls -h Desktop/data-shell/data"
   ]
  },
  {
   "cell_type": "markdown",
   "metadata": {
    "slideshow": {
     "slide_type": "fragment"
    }
   },
   "source": [
    "3. What will happen when we use them *together*?"
   ]
  },
  {
   "cell_type": "code",
   "execution_count": null,
   "metadata": {
    "slideshow": {
     "slide_type": "fragment"
    }
   },
   "outputs": [],
   "source": [
    "ls -lh Desktop/data-shell/data"
   ]
  },
  {
   "cell_type": "markdown",
   "metadata": {
    "slideshow": {
     "slide_type": "subslide"
    }
   },
   "source": [
    "### Exercise:\n",
    "\n",
    "* `ls` lists contents in alphabetical order by default.\n",
    "* The `-t` option lists items by the time they were last modified (instead of alphabetically)\n",
    "* The `-r` option lists the contents of a direcotry in reverse order\n",
    "\n",
    "**Question**: What file is displayed **last** when you type `ls -tr`?"
   ]
  },
  {
   "cell_type": "code",
   "execution_count": null,
   "metadata": {
    "slideshow": {
     "slide_type": "fragment"
    }
   },
   "outputs": [],
   "source": [
    "ls -tr"
   ]
  },
  {
   "cell_type": "markdown",
   "metadata": {
    "slideshow": {
     "slide_type": "fragment"
    }
   },
   "source": [
    "**Answer**: The most recently changed file is listed last!"
   ]
  },
  {
   "cell_type": "markdown",
   "metadata": {
    "slideshow": {
     "slide_type": "subslide"
    }
   },
   "source": [
    "### Exploring other directories\n",
    "\n",
    "Providing an argument to `ls` lets us list the content of other directories (besides our current working directory):"
   ]
  },
  {
   "cell_type": "code",
   "execution_count": null,
   "metadata": {
    "slideshow": {
     "slide_type": "fragment"
    }
   },
   "outputs": [],
   "source": [
    "ls -F Desktop"
   ]
  },
  {
   "cell_type": "markdown",
   "metadata": {
    "slideshow": {
     "slide_type": "fragment"
    }
   },
   "source": [
    "(For those of you on Mac + Linux: this should match what you *see* on your desktop! For those of you using the WSL: this will be a bit different, unfortunately.)"
   ]
  },
  {
   "cell_type": "markdown",
   "metadata": {
    "slideshow": {
     "slide_type": "subslide"
    }
   },
   "source": [
    "We can now do two things:\n",
    "\n",
    "1. List the contents of one of the directories on our Desktop:"
   ]
  },
  {
   "cell_type": "code",
   "execution_count": null,
   "metadata": {
    "slideshow": {
     "slide_type": "fragment"
    }
   },
   "outputs": [],
   "source": [
    "ls -F Desktop/data-shell"
   ]
  },
  {
   "cell_type": "markdown",
   "metadata": {
    "slideshow": {
     "slide_type": "fragment"
    }
   },
   "source": [
    "2. Actually *change* to a different directory, moving out of our home directory"
   ]
  },
  {
   "cell_type": "code",
   "execution_count": null,
   "metadata": {
    "slideshow": {
     "slide_type": "fragment"
    }
   },
   "outputs": [],
   "source": [
    "cd Desktop"
   ]
  },
  {
   "cell_type": "code",
   "execution_count": null,
   "metadata": {
    "slideshow": {
     "slide_type": "fragment"
    }
   },
   "outputs": [],
   "source": [
    "cd data-shell"
   ]
  },
  {
   "cell_type": "code",
   "execution_count": null,
   "metadata": {
    "slideshow": {
     "slide_type": "fragment"
    }
   },
   "outputs": [],
   "source": [
    "cd data"
   ]
  },
  {
   "cell_type": "markdown",
   "metadata": {
    "slideshow": {
     "slide_type": "fragment"
    }
   },
   "source": [
    "The `cd` command (**c**hange **d**irectory) changes the **shell's idea** of what directory we're in."
   ]
  },
  {
   "cell_type": "markdown",
   "metadata": {
    "slideshow": {
     "slide_type": "fragment"
    }
   },
   "source": [
    "The above commands will change us, one-by-one, into `Desktop`, then `data-shell`, then `data`.\n",
    "\n",
    "Note the lack of output! This is normal for `cd`."
   ]
  },
  {
   "cell_type": "markdown",
   "metadata": {
    "slideshow": {
     "slide_type": "subslide"
    }
   },
   "source": [
    "### Where are we now?\n",
    "\n",
    "Let's check our **current working directory**:"
   ]
  },
  {
   "cell_type": "code",
   "execution_count": null,
   "metadata": {
    "slideshow": {
     "slide_type": "fragment"
    }
   },
   "outputs": [],
   "source": [
    "pwd"
   ]
  },
  {
   "cell_type": "markdown",
   "metadata": {
    "slideshow": {
     "slide_type": "fragment"
    }
   },
   "source": [
    "And the contents of the directory (once more):"
   ]
  },
  {
   "cell_type": "code",
   "execution_count": null,
   "metadata": {
    "slideshow": {
     "slide_type": "fragment"
    }
   },
   "outputs": [],
   "source": [
    "ls -F"
   ]
  },
  {
   "cell_type": "markdown",
   "metadata": {
    "slideshow": {
     "slide_type": "subslide"
    }
   },
   "source": [
    "### How do I get out of here?\n",
    "\n",
    "We can go \"down\" into directories, but what about reversing that? What if I want to go back to `data-shell`?"
   ]
  },
  {
   "cell_type": "code",
   "execution_count": null,
   "metadata": {
    "slideshow": {
     "slide_type": "fragment"
    }
   },
   "outputs": [],
   "source": [
    "cd data-shell"
   ]
  },
  {
   "cell_type": "markdown",
   "metadata": {
    "slideshow": {
     "slide_type": "fragment"
    }
   },
   "source": [
    "Nope! `cd` can only see *inside* your current directory. \n",
    "\n",
    "There's a special notation to move one directory up:"
   ]
  },
  {
   "cell_type": "code",
   "execution_count": null,
   "metadata": {
    "slideshow": {
     "slide_type": "fragment"
    }
   },
   "outputs": [],
   "source": [
    "cd .."
   ]
  },
  {
   "cell_type": "markdown",
   "metadata": {
    "slideshow": {
     "slide_type": "fragment"
    }
   },
   "source": [
    "Here, `..` refers to \"the directory containing this one\". This is also called the **parent** of the current directory.\n",
    "\n",
    "Let's check that we are where we think we are:"
   ]
  },
  {
   "cell_type": "code",
   "execution_count": null,
   "metadata": {
    "slideshow": {
     "slide_type": "fragment"
    }
   },
   "outputs": [],
   "source": [
    "pwd"
   ]
  },
  {
   "cell_type": "markdown",
   "metadata": {
    "slideshow": {
     "slide_type": "subslide"
    }
   },
   "source": [
    "### Seeing the unseen\n",
    "\n",
    "`ls` is supposed to list the contents of our directory, but we didn't see `..` anywhere in the listings from before, right?\n",
    "\n",
    "`..` is a special directory that is normally hidden. We can provide an additional argument to `ls` to make it appear:"
   ]
  },
  {
   "cell_type": "code",
   "execution_count": null,
   "metadata": {
    "slideshow": {
     "slide_type": "fragment"
    }
   },
   "outputs": [],
   "source": [
    "ls -Fa"
   ]
  },
  {
   "cell_type": "markdown",
   "metadata": {
    "slideshow": {
     "slide_type": "fragment"
    }
   },
   "source": [
    "The `-a` argument (show **a**ll contents) will list ALL the contents of our current directory, including special and hidden files/directories, like:\n",
    "\n",
    "* `..`, which refers to the parent directory\n",
    "* `.`, which refers to the current working directory"
   ]
  },
  {
   "cell_type": "markdown",
   "metadata": {
    "slideshow": {
     "slide_type": "subslide"
    }
   },
   "source": [
    "### Hidden files\n",
    "\n",
    "The last command also revealed a `.bash_profile` file:"
   ]
  },
  {
   "cell_type": "code",
   "execution_count": null,
   "metadata": {
    "slideshow": {
     "slide_type": "fragment"
    }
   },
   "outputs": [],
   "source": [
    "ls -Fa"
   ]
  },
  {
   "cell_type": "markdown",
   "metadata": {
    "slideshow": {
     "slide_type": "fragment"
    }
   },
   "source": [
    "The `.` prefix is usually reserved for configuration files, and prevents them from cluttering the terminal when you use `ls`."
   ]
  },
  {
   "cell_type": "markdown",
   "metadata": {
    "slideshow": {
     "slide_type": "subslide"
    }
   },
   "source": [
    "### `pwd`, `cd`, and `ls`\n",
    "\n",
    "These are some of **the most** common commands you'll use in the shell! So let's learn a little more about them."
   ]
  },
  {
   "cell_type": "code",
   "execution_count": null,
   "metadata": {
    "slideshow": {
     "slide_type": "fragment"
    }
   },
   "outputs": [],
   "source": [
    "cd"
   ]
  },
  {
   "cell_type": "markdown",
   "metadata": {
    "slideshow": {
     "slide_type": "fragment"
    }
   },
   "source": [
    "`cd` optionally takes no arguments. But where does that land us?"
   ]
  },
  {
   "cell_type": "code",
   "execution_count": null,
   "metadata": {
    "slideshow": {
     "slide_type": "fragment"
    }
   },
   "outputs": [],
   "source": [
    "pwd"
   ]
  },
  {
   "cell_type": "markdown",
   "metadata": {
    "slideshow": {
     "slide_type": "fragment"
    }
   },
   "source": [
    "In our home directory! This is *incredibly* useful if you've gotten lost.\n",
    "\n",
    "Let's go back to the `data` directory:"
   ]
  },
  {
   "cell_type": "code",
   "execution_count": null,
   "metadata": {
    "slideshow": {
     "slide_type": "fragment"
    }
   },
   "outputs": [],
   "source": [
    "cd Desktop/data-shell/data"
   ]
  },
  {
   "cell_type": "code",
   "execution_count": null,
   "metadata": {
    "slideshow": {
     "slide_type": "fragment"
    }
   },
   "outputs": [],
   "source": [
    "pwd"
   ]
  },
  {
   "cell_type": "markdown",
   "metadata": {
    "slideshow": {
     "slide_type": "fragment"
    }
   },
   "source": [
    "We can string together paths with the `/` separator instead of changing one directory at a time!"
   ]
  },
  {
   "cell_type": "markdown",
   "metadata": {
    "slideshow": {
     "slide_type": "subslide"
    }
   },
   "source": [
    "### Relative versus absolute paths\n",
    "\n",
    "We've been using **relative** paths to change directories and list their contents.\n",
    "\n",
    "Relative here indicates that the path is **relative to your current working directory**.\n",
    "\n",
    "The alternative is an **absolute** path, which includes the entire path starting at the root directory (`/`).\n",
    "\n",
    "This is what's been printed with `pwd`:"
   ]
  },
  {
   "cell_type": "code",
   "execution_count": null,
   "metadata": {
    "slideshow": {
     "slide_type": "fragment"
    }
   },
   "outputs": [],
   "source": [
    "pwd"
   ]
  },
  {
   "cell_type": "markdown",
   "metadata": {
    "slideshow": {
     "slide_type": "fragment"
    }
   },
   "source": [
    "We can provide absolute paths to our commands and they'll work, too:"
   ]
  },
  {
   "cell_type": "code",
   "execution_count": null,
   "metadata": {
    "slideshow": {
     "slide_type": "fragment"
    }
   },
   "outputs": [],
   "source": [
    "cd /Users/rmarkello/Desktop/data-shell"
   ]
  },
  {
   "cell_type": "code",
   "execution_count": null,
   "metadata": {
    "slideshow": {
     "slide_type": "fragment"
    }
   },
   "outputs": [],
   "source": [
    "pwd"
   ]
  },
  {
   "cell_type": "code",
   "execution_count": null,
   "metadata": {
    "slideshow": {
     "slide_type": "fragment"
    }
   },
   "outputs": [],
   "source": [
    "ls -F"
   ]
  },
  {
   "cell_type": "markdown",
   "metadata": {
    "slideshow": {
     "slide_type": "subslide"
    }
   },
   "source": [
    "### Some helpful shortcuts"
   ]
  },
  {
   "cell_type": "markdown",
   "metadata": {
    "slideshow": {
     "slide_type": "fragment"
    }
   },
   "source": [
    "#### `~`\n",
    "\n",
    "The shell will interpret the `~` tilde character as \"your home directory\". \n",
    "\n",
    "That is, `cd ~`, `cd`, and `cd /Users/rmarkello` will all get me to the same place!"
   ]
  },
  {
   "cell_type": "code",
   "execution_count": null,
   "metadata": {
    "slideshow": {
     "slide_type": "fragment"
    }
   },
   "outputs": [],
   "source": [
    "cd ~"
   ]
  },
  {
   "cell_type": "code",
   "execution_count": null,
   "metadata": {
    "slideshow": {
     "slide_type": "fragment"
    }
   },
   "outputs": [],
   "source": [
    "pwd"
   ]
  },
  {
   "cell_type": "markdown",
   "metadata": {
    "slideshow": {
     "slide_type": "fragment"
    }
   },
   "source": [
    "If you're unsure, you can determine what your home directory is via the environmental variable `$HOME` (like we did with `$SHELL` before!):"
   ]
  },
  {
   "cell_type": "code",
   "execution_count": null,
   "metadata": {
    "slideshow": {
     "slide_type": "fragment"
    }
   },
   "outputs": [],
   "source": [
    "echo $HOME"
   ]
  },
  {
   "cell_type": "markdown",
   "metadata": {
    "slideshow": {
     "slide_type": "fragment"
    }
   },
   "source": [
    "#### `-`\n",
    "\n",
    "The shell will interpret the `-` character as \"wherever you were last\".\n",
    "\n",
    "Unlike `..`, which moves us \"up\" one directory, `-` will bring you BACK. \n",
    "\n",
    "We were just in `/Users/rmarkello/Desktop/data-shell` and then changed to `/Users/rmarkello` so `cd -` should bring us back:"
   ]
  },
  {
   "cell_type": "code",
   "execution_count": null,
   "metadata": {
    "slideshow": {
     "slide_type": "fragment"
    }
   },
   "outputs": [],
   "source": [
    "cd -"
   ]
  },
  {
   "cell_type": "markdown",
   "metadata": {
    "slideshow": {
     "slide_type": "subslide"
    }
   },
   "source": [
    "### Absolute vs Relative Paths:\n",
    "\n",
    "Starting from `/Users/amanda/data`, which of the following commands could Amanda use to navigate to her home directory, which is `/Users/amanda`?\n",
    "\n",
    "1. `cd .`\n",
    "2. `cd /`\n",
    "3. `cd /home/amanda`\n",
    "4. `cd ../..`\n",
    "5. `cd ~`\n",
    "6. `cd home`\n",
    "7. `cd ~/data/..`\n",
    "8. `cd`\n",
    "9. `cd ..`"
   ]
  },
  {
   "cell_type": "markdown",
   "metadata": {
    "slideshow": {
     "slide_type": "fragment"
    }
   },
   "source": [
    "1. No: `.` refers to the **current working directory**"
   ]
  },
  {
   "cell_type": "markdown",
   "metadata": {
    "slideshow": {
     "slide_type": "fragment"
    }
   },
   "source": [
    "2. No: `/` refers to the **root directory**"
   ]
  },
  {
   "cell_type": "markdown",
   "metadata": {
    "slideshow": {
     "slide_type": "fragment"
    }
   },
   "source": [
    "3. No: Amanda's home directory is `/Users/amanda`"
   ]
  },
  {
   "cell_type": "markdown",
   "metadata": {
    "slideshow": {
     "slide_type": "fragment"
    }
   },
   "source": [
    "4. No: this goes up two levels, to `Users`"
   ]
  },
  {
   "cell_type": "markdown",
   "metadata": {
    "slideshow": {
     "slide_type": "fragment"
    }
   },
   "source": [
    "5. Yes: `~` refers to the home directory, which is `Users/amanda`."
   ]
  },
  {
   "cell_type": "markdown",
   "metadata": {
    "slideshow": {
     "slide_type": "fragment"
    }
   },
   "source": [
    "6. No: this would navigate to the `hom` directory inside `Users/amanda/data` (if it exists)"
   ]
  },
  {
   "cell_type": "markdown",
   "metadata": {
    "slideshow": {
     "slide_type": "fragment"
    }
   },
   "source": [
    "7. Yes: unnecesarily complicated, but correct"
   ]
  },
  {
   "cell_type": "markdown",
   "metadata": {
    "slideshow": {
     "slide_type": "fragment"
    }
   },
   "source": [
    "8. Yes: this is a shortcut to go back to the user's home directory!"
   ]
  },
  {
   "cell_type": "markdown",
   "metadata": {
    "slideshow": {
     "slide_type": "fragment"
    }
   },
   "source": [
    "9. Yes: this goes up one directory, to `/Users/amanda`"
   ]
  },
  {
   "cell_type": "markdown",
   "metadata": {
    "slideshow": {
     "slide_type": "subslide"
    }
   },
   "source": [
    "### Relative Path Resolution:\n",
    "\n",
    "Based on the following diagram, if `pwd` displays `/Users/thing`, what will `ls -F ../backup` display?\n",
    "\n",
    "1. `../backup: No such file or directory`\n",
    "2. `2012-12-01 2013-01-08 2013-01-27`\n",
    "3. `2012-12-01/ 2013-01-08/ 2013-01-27/`\n",
    "4. `original/ pnas_final/ pnas_sub/`\n",
    "\n",
    "<img src=\"http://swcarpentry.github.io/shell-novice/fig/filesystem-challenge.svg\">"
   ]
  },
  {
   "cell_type": "markdown",
   "metadata": {
    "slideshow": {
     "slide_type": "fragment"
    }
   },
   "source": [
    "1. No: there *is* a directory `backup` in `Users`"
   ]
  },
  {
   "cell_type": "markdown",
   "metadata": {
    "slideshow": {
     "slide_type": "fragment"
    }
   },
   "source": [
    "2. No: this is the content of `/Users/thing/backup`, but `..` means we are one level up from that"
   ]
  },
  {
   "cell_type": "markdown",
   "metadata": {
    "slideshow": {
     "slide_type": "fragment"
    }
   },
   "source": [
    "3. No: for the same reason as (2)"
   ]
  },
  {
   "cell_type": "markdown",
   "metadata": {
    "slideshow": {
     "slide_type": "fragment"
    }
   },
   "source": [
    "4. Yes: `../backup` refers to `/Users/backup`"
   ]
  },
  {
   "cell_type": "markdown",
   "metadata": {
    "slideshow": {
     "slide_type": "subslide"
    }
   },
   "source": [
    "### `ls` Reading Comprehension\n",
    "\n",
    "Using the filesystem diagram below, if `pwd` displays `/Users/backup`, and `-r` tells `ls` to display things in reverse (alphabetical) order, what command(s) will result in the following output:\n",
    "\n",
    "```\n",
    "pnas_sub/ pnas_final/ original/\n",
    "```\n",
    "\n",
    "1. `ls pwd`\n",
    "2. `ls -rF`\n",
    "3. `ls -rF /Users/backup`\n",
    "\n",
    "<img src=\"http://swcarpentry.github.io/shell-novice/fig/filesystem-challenge.svg\">"
   ]
  },
  {
   "cell_type": "markdown",
   "metadata": {
    "slideshow": {
     "slide_type": "fragment"
    }
   },
   "source": [
    "1. No: `pwd` is not the name of a directory, it is a command."
   ]
  },
  {
   "cell_type": "markdown",
   "metadata": {
    "slideshow": {
     "slide_type": "subslide"
    }
   },
   "source": [
    "2. Yes: `ls` without any arguments will list the contents of the current directory."
   ]
  },
  {
   "cell_type": "markdown",
   "metadata": {
    "slideshow": {
     "slide_type": "subslide"
    }
   },
   "source": [
    "3. Yes: providing the absolute path of the directory will work."
   ]
  },
  {
   "cell_type": "markdown",
   "metadata": {
    "slideshow": {
     "slide_type": "subslide"
    }
   },
   "source": [
    "### Key points\n",
    "\n",
    "\n",
    "* The file system is responsible for managing information on the disk\n",
    "* Information is stored in files, which are stored in directories (folders)\n",
    "* Directories can also store other (sub-)directories, which forms a directory tree\n",
    "* `cd path` changes the current working directory\n",
    "* `ls path` prints a listing of a specific file or directory; `ls` on its own lists the current working directory.\n",
    "* `pwd` prints the user’s current working directory\n",
    "* `/` on its own is the root directory of the whole file system\n",
    "* A relative path specifies a location starting from the current location\n",
    "* An absolute path specifies a location from the root of the file system\n",
    "* Directory names in a path are separated with `/` on Unix, but `\\` on Windows\n",
    "* `..` means \"the directory above the current one\"; `.` on its own means \"the current directory\""
   ]
  },
  {
   "cell_type": "markdown",
   "metadata": {
    "slideshow": {
     "slide_type": "slide"
    }
   },
   "source": [
    "## Working with Files and Directories\n",
    "\n",
    "How do we actually _make_ new files and directories from the command line?\n",
    "\n",
    "First, let's remind ourselves of where we are:"
   ]
  },
  {
   "cell_type": "code",
   "execution_count": null,
   "metadata": {
    "slideshow": {
     "slide_type": "fragment"
    }
   },
   "outputs": [],
   "source": [
    "pwd"
   ]
  },
  {
   "cell_type": "code",
   "execution_count": null,
   "metadata": {
    "slideshow": {
     "slide_type": "fragment"
    }
   },
   "outputs": [],
   "source": [
    "ls -F"
   ]
  },
  {
   "cell_type": "markdown",
   "metadata": {
    "slideshow": {
     "slide_type": "subslide"
    }
   },
   "source": [
    "## Creating a directory\n",
    "\n",
    "We can create new directories with the `mkdir` (**m**a**k**e **dir**ectory) command:"
   ]
  },
  {
   "cell_type": "code",
   "execution_count": null,
   "metadata": {
    "slideshow": {
     "slide_type": "fragment"
    }
   },
   "outputs": [],
   "source": [
    "mkdir thesis"
   ]
  },
  {
   "cell_type": "markdown",
   "metadata": {
    "slideshow": {
     "slide_type": "fragment"
    }
   },
   "source": [
    "Since we provided a relative path, we can expect that to have been creating in our current working directory:"
   ]
  },
  {
   "cell_type": "code",
   "execution_count": null,
   "metadata": {
    "slideshow": {
     "slide_type": "fragment"
    }
   },
   "outputs": [],
   "source": [
    "ls -F"
   ]
  },
  {
   "cell_type": "markdown",
   "metadata": {
    "slideshow": {
     "slide_type": "fragment"
    }
   },
   "source": [
    "(You could have also opened up the file explorer and made a new folder that way, too!)"
   ]
  },
  {
   "cell_type": "markdown",
   "metadata": {
    "slideshow": {
     "slide_type": "subslide"
    }
   },
   "source": [
    "### Good naming conventions\n",
    "\n",
    "1. Don't use spaces\n",
    "2. Don't begin the name with `-`\n",
    "3. Stick with letters, numbers, `.`, `-`, and `_`\n",
    "    - That is, avoid other special characters like `~!@#$%^&*()`"
   ]
  },
  {
   "cell_type": "markdown",
   "metadata": {
    "slideshow": {
     "slide_type": "subslide"
    }
   },
   "source": [
    "### Creating a text file\n",
    "\n",
    "Let's navigate into our (empty) `thesis` directory and create a new file:"
   ]
  },
  {
   "cell_type": "code",
   "execution_count": null,
   "metadata": {
    "slideshow": {
     "slide_type": "fragment"
    }
   },
   "outputs": [],
   "source": [
    "cd thesis"
   ]
  },
  {
   "cell_type": "code",
   "execution_count": null,
   "metadata": {
    "slideshow": {
     "slide_type": "fragment"
    }
   },
   "outputs": [],
   "source": [
    "# nano draft.txt"
   ]
  },
  {
   "cell_type": "markdown",
   "metadata": {
    "slideshow": {
     "slide_type": "fragment"
    }
   },
   "source": [
    "`nano` is a useful command-line **text editor**. It only works with plain text (i.e., no graphs, figures, tables, or images!)\n",
    "\n",
    "(You may be familiar with graphical editors like Gedit, Notepad, or TextEdit, or other command line editors like Emacs or Vim.)"
   ]
  },
  {
   "cell_type": "markdown",
   "metadata": {
    "slideshow": {
     "slide_type": "fragment"
    }
   },
   "source": [
    "`nano` uses the Control key to make changes. The following commands are all equivalent and should be interpreted as \"press and hold control and then press X\"):\n",
    "\n",
    "* `Control-X`\n",
    "* `Control+X`\n",
    "* `Ctrl-X`\n",
    "* `Ctrl+X`\n",
    "* `^X`\n",
    "* `C-x`\n",
    "\n",
    "The commands along the bottom of the `nano` editor (`^G Get Help ^O WriteOut`) mean you can use `Control-G` to get help or `Control-O` to save your file."
   ]
  },
  {
   "cell_type": "markdown",
   "metadata": {
    "slideshow": {
     "slide_type": "fragment"
    }
   },
   "source": [
    "`nano` doesn't print anything to screen, so let's make sure our file exists:"
   ]
  },
  {
   "cell_type": "code",
   "execution_count": null,
   "metadata": {
    "slideshow": {
     "slide_type": "fragment"
    }
   },
   "outputs": [],
   "source": [
    "ls -F"
   ]
  },
  {
   "cell_type": "markdown",
   "metadata": {
    "slideshow": {
     "slide_type": "subslide"
    }
   },
   "source": [
    "### Other ways to create files\n",
    "\n",
    "We can make a file (and immediately edit its contents with `nano`), but we can also use the following command:"
   ]
  },
  {
   "cell_type": "code",
   "execution_count": null,
   "metadata": {
    "slideshow": {
     "slide_type": "fragment"
    }
   },
   "outputs": [],
   "source": [
    "touch my_file.txt"
   ]
  },
  {
   "cell_type": "markdown",
   "metadata": {
    "slideshow": {
     "slide_type": "fragment"
    }
   },
   "source": [
    "`touch` creates an **empty** file. We can see that with `ls -l`:"
   ]
  },
  {
   "cell_type": "code",
   "execution_count": null,
   "metadata": {
    "slideshow": {
     "slide_type": "fragment"
    }
   },
   "outputs": [],
   "source": [
    "ls -l"
   ]
  },
  {
   "cell_type": "markdown",
   "metadata": {
    "slideshow": {
     "slide_type": "subslide"
    }
   },
   "source": [
    "### Moving files and directories\n",
    "\n",
    "Let's start by going back to the `data-shell` directory:"
   ]
  },
  {
   "cell_type": "code",
   "execution_count": null,
   "metadata": {
    "slideshow": {
     "slide_type": "fragment"
    }
   },
   "outputs": [],
   "source": [
    "cd ~/Desktop/data-shell"
   ]
  },
  {
   "cell_type": "markdown",
   "metadata": {
    "slideshow": {
     "slide_type": "fragment"
    }
   },
   "source": [
    "We now have a `thesis/draft.txt` file, which isn't very informatively named. Let's **m**o**v**e it:"
   ]
  },
  {
   "cell_type": "code",
   "execution_count": null,
   "metadata": {
    "slideshow": {
     "slide_type": "fragment"
    }
   },
   "outputs": [],
   "source": [
    "mv thesis/draft.txt thesis/quotes.txt"
   ]
  },
  {
   "cell_type": "markdown",
   "metadata": {
    "slideshow": {
     "slide_type": "fragment"
    }
   },
   "source": [
    "The first argument of `mv` is the file we're moving, and the last argument is where we want it to go!\n",
    "\n",
    "Let's make sure that worked:"
   ]
  },
  {
   "cell_type": "code",
   "execution_count": null,
   "metadata": {
    "slideshow": {
     "slide_type": "fragment"
    }
   },
   "outputs": [],
   "source": [
    "ls thesis"
   ]
  },
  {
   "cell_type": "markdown",
   "metadata": {
    "slideshow": {
     "slide_type": "fragment"
    }
   },
   "source": [
    "Note: we can provide more than two arguments to `mv`, as long as the final argument is a directory! That would mean \"move all these things into this directory\".\n",
    "\n",
    "Also note: `mv` is **quite dangerous**, because it will silently overwrite files if the destination already exists! Refer to the `-i` flag for \"interactive\" moving (with warnings!)."
   ]
  },
  {
   "cell_type": "markdown",
   "metadata": {
    "slideshow": {
     "slide_type": "subslide"
    }
   },
   "source": [
    "### More on `mv`\n",
    "\n",
    "Note that we use `mv` to change files to a different directory (rather than just re-naming):"
   ]
  },
  {
   "cell_type": "code",
   "execution_count": null,
   "metadata": {
    "slideshow": {
     "slide_type": "fragment"
    }
   },
   "outputs": [],
   "source": [
    "mv thesis/quotes.txt ."
   ]
  },
  {
   "cell_type": "markdown",
   "metadata": {
    "slideshow": {
     "slide_type": "fragment"
    }
   },
   "source": [
    "The `.` means \"the current directory\", so we _should_ have moved `quotes.txt` out of the `thesis` directory into our current directory.\n",
    "\n",
    "Let's check that worked as expected:"
   ]
  },
  {
   "cell_type": "code",
   "execution_count": null,
   "metadata": {
    "slideshow": {
     "slide_type": "fragment"
    }
   },
   "outputs": [],
   "source": [
    "ls thesis"
   ]
  },
  {
   "cell_type": "code",
   "execution_count": null,
   "metadata": {
    "slideshow": {
     "slide_type": "fragment"
    }
   },
   "outputs": [],
   "source": [
    "ls quotes.txt"
   ]
  },
  {
   "cell_type": "markdown",
   "metadata": {
    "slideshow": {
     "slide_type": "fragment"
    }
   },
   "source": [
    "(Note: providing a filename to `ls` instead of a directory will list only that filename **if it exists**. Otherwise, it will throw an error.)"
   ]
  },
  {
   "cell_type": "markdown",
   "metadata": {
    "slideshow": {
     "slide_type": "subslide"
    }
   },
   "source": [
    "### Exercise: Moving files to a new folder\n",
    "\n",
    "After running the following commands, Jamie realizes that she put the files `sucrose.dat` and `maltose.dat` into the wrong folder. The files should have been placed in the `raw` folder.\n",
    "\n",
    "```bash\n",
    "$ ls -F\n",
    " analyzed/ raw/\n",
    "$ ls -F analyzed\n",
    "fructose.dat glucose.dat maltose.dat sucrose.dat\n",
    "$ cd analyzed\n",
    "```\n",
    "\n",
    "Fill in the blanks to move these files to the raw/ folder (i.e. the one she forgot to put them in):\n",
    "\n",
    "```bash\n",
    "$ mv sucrose.dat maltose.dat ____/____\n",
    "```"
   ]
  },
  {
   "cell_type": "markdown",
   "metadata": {
    "slideshow": {
     "slide_type": "fragment"
    }
   },
   "source": [
    "```bash\n",
    "mv sucrose.dat maltose.dat ../raw\n",
    "```\n",
    "\n",
    "Remember, the `..` refers to the parent directory (i.e., one above the current directory)"
   ]
  },
  {
   "cell_type": "markdown",
   "metadata": {
    "slideshow": {
     "slide_type": "subslide"
    }
   },
   "source": [
    "### Copying files and directories\n",
    "\n",
    "The `cp` (**c**o**p**y) command is like `mv`, but copies instead of moving!"
   ]
  },
  {
   "cell_type": "code",
   "execution_count": null,
   "metadata": {
    "slideshow": {
     "slide_type": "fragment"
    }
   },
   "outputs": [],
   "source": [
    "cp quotes.txt thesis/quotations.txt"
   ]
  },
  {
   "cell_type": "code",
   "execution_count": null,
   "metadata": {
    "slideshow": {
     "slide_type": "fragment"
    }
   },
   "outputs": [],
   "source": [
    "ls quotes.txt thesis/quotations.txt"
   ]
  },
  {
   "cell_type": "markdown",
   "metadata": {
    "slideshow": {
     "slide_type": "fragment"
    }
   },
   "source": [
    "We can use the `-r` (**r**ecursive) flag to copy a directory and all its contents:"
   ]
  },
  {
   "cell_type": "code",
   "execution_count": null,
   "metadata": {
    "slideshow": {
     "slide_type": "fragment"
    }
   },
   "outputs": [],
   "source": [
    "cp -r thesis thesis_backup"
   ]
  },
  {
   "cell_type": "code",
   "execution_count": null,
   "metadata": {
    "slideshow": {
     "slide_type": "fragment"
    }
   },
   "outputs": [],
   "source": [
    "ls thesis thesis_backup"
   ]
  },
  {
   "cell_type": "markdown",
   "metadata": {
    "slideshow": {
     "slide_type": "subslide"
    }
   },
   "source": [
    "### Exercise: Renaming files\n",
    "\n",
    "Suppose that you created a plain-text file in your current directory to contain a list of the statistical tests you will need to do to analyze your data, and named it: `statstics.txt`\n",
    "\n",
    "After creating and saving this file you realize you misspelled the filename! You want to correct the mistake and remove the incorrectly named file. Which of the following commands could you use to do so?\n",
    "\n",
    "1. cp statstics.txt statistics.txt\n",
    "2. mv statstics.txt statistics.txt\n",
    "3. mv statstics.txt .\n",
    "4. cp statstics.txt ."
   ]
  },
  {
   "cell_type": "markdown",
   "metadata": {
    "slideshow": {
     "slide_type": "fragment"
    }
   },
   "source": [
    "1. No: this would create a file with the correct name but would **not** remove the incorrectly named file"
   ]
  },
  {
   "cell_type": "markdown",
   "metadata": {
    "slideshow": {
     "slide_type": "fragment"
    }
   },
   "source": [
    "2. Yes: this would rename the file!"
   ]
  },
  {
   "cell_type": "markdown",
   "metadata": {
    "slideshow": {
     "slide_type": "fragment"
    }
   },
   "source": [
    "3. No, the `.` indicates where to move the file but does not provide a new name."
   ]
  },
  {
   "cell_type": "markdown",
   "metadata": {
    "slideshow": {
     "slide_type": "fragment"
    }
   },
   "source": [
    "4. No, the `.` indicates where to copy the file but does not provide a new name."
   ]
  },
  {
   "cell_type": "markdown",
   "metadata": {
    "slideshow": {
     "slide_type": "subslide"
    }
   },
   "source": [
    "### Moving and Copying\n",
    "\n",
    "What is the output of the closing `ls` command in the sequence shown below:\n",
    "\n",
    "```bash\n",
    "$ pwd\n",
    "/Users/jamie/data\n",
    "$ ls\n",
    "proteins.dat\n",
    "$ mkdir recombine\n",
    "$ mv proteins.dat recombine\n",
    "$ cp recombine/proteins.dat ../proteins-saved.dat\n",
    "$ ls\n",
    "```\n",
    "\n",
    "1. `proteins-saved.dat recombine`\n",
    "2. `recombine`\n",
    "3. `proteins.dat recombine`\n",
    "4. `proteins-saved.dat`"
   ]
  },
  {
   "cell_type": "markdown",
   "metadata": {
    "slideshow": {
     "slide_type": "fragment"
    }
   },
   "source": [
    "1. No: `proteins-saved.dat` is located at `/Users/jamie`"
   ]
  },
  {
   "cell_type": "markdown",
   "metadata": {
    "slideshow": {
     "slide_type": "fragment"
    }
   },
   "source": [
    "2. Yes!"
   ]
  },
  {
   "cell_type": "markdown",
   "metadata": {
    "slideshow": {
     "slide_type": "fragment"
    }
   },
   "source": [
    "3. No: `proteins.dat` is located at `/Users/jamie/data/recombine`"
   ]
  },
  {
   "cell_type": "markdown",
   "metadata": {
    "slideshow": {
     "slide_type": "fragment"
    }
   },
   "source": [
    "4. No, `proteins-saved.dat` is located at `/Users/jamie` "
   ]
  },
  {
   "cell_type": "markdown",
   "metadata": {
    "slideshow": {
     "slide_type": "subslide"
    }
   },
   "source": [
    "### Removing files\n",
    "\n",
    "Let's go back to `data-shell` and **r**e**m**ove the `quotes.txt` file we created:"
   ]
  },
  {
   "cell_type": "code",
   "execution_count": null,
   "metadata": {
    "slideshow": {
     "slide_type": "fragment"
    }
   },
   "outputs": [],
   "source": [
    "cd ~/Desktop/data-shell"
   ]
  },
  {
   "cell_type": "code",
   "execution_count": null,
   "metadata": {
    "slideshow": {
     "slide_type": "fragment"
    }
   },
   "outputs": [],
   "source": [
    "rm quotes.txt"
   ]
  },
  {
   "cell_type": "markdown",
   "metadata": {
    "slideshow": {
     "slide_type": "fragment"
    }
   },
   "source": [
    "The `rm` command deletes files. Let's check that the file is gone:"
   ]
  },
  {
   "cell_type": "code",
   "execution_count": null,
   "metadata": {
    "slideshow": {
     "slide_type": "fragment"
    }
   },
   "outputs": [],
   "source": [
    "ls quotes.txt"
   ]
  },
  {
   "cell_type": "markdown",
   "metadata": {
    "slideshow": {
     "slide_type": "subslide"
    }
   },
   "source": [
    "### Deleting is **FOREVER** 💀💀\n",
    "\n",
    "* The shell DOES NOT HAVE A TRASH BIN.\n",
    "* You CANNOT recover files that have been deleted with `rm`\n",
    "* But, you can use the `-i` flag to do things a bit more safely!\n",
    "    * This will prompt you to type `Y` or `N` before every file that is going to be deleted."
   ]
  },
  {
   "cell_type": "markdown",
   "metadata": {
    "slideshow": {
     "slide_type": "subslide"
    }
   },
   "source": [
    "### Removing directories\n",
    "\n",
    "Let's try and remove the `thesis` directory:"
   ]
  },
  {
   "cell_type": "code",
   "execution_count": null,
   "metadata": {
    "slideshow": {
     "slide_type": "fragment"
    }
   },
   "outputs": [],
   "source": [
    "rm thesis"
   ]
  },
  {
   "cell_type": "markdown",
   "metadata": {
    "slideshow": {
     "slide_type": "fragment"
    }
   },
   "source": [
    "`rm` only works on files, by default, but we can tell it to **r**ecursively delete a directory and all its contents with the `-r` flag:"
   ]
  },
  {
   "cell_type": "code",
   "execution_count": null,
   "metadata": {
    "slideshow": {
     "slide_type": "fragment"
    }
   },
   "outputs": [],
   "source": [
    "rm -r thesis"
   ]
  },
  {
   "cell_type": "markdown",
   "metadata": {
    "slideshow": {
     "slide_type": "fragment"
    }
   },
   "source": [
    "Because **deleting is forever 💀💀**, the `rm -r` command should be used with GREAT CAUTION."
   ]
  },
  {
   "cell_type": "markdown",
   "metadata": {
    "slideshow": {
     "slide_type": "subslide"
    }
   },
   "source": [
    "### Operations with multiople files and directories\n",
    "\n",
    "Oftentimes you need to copy or move several files at once. You can do this by specifiying a list of filenames"
   ]
  },
  {
   "cell_type": "markdown",
   "metadata": {
    "slideshow": {
     "slide_type": "fragment"
    }
   },
   "source": [
    "#### Exercise: Copy with Multiple Filenames\n",
    "\n",
    "(Work through these in the `data-shell/data` directory.)\n",
    "\n",
    "In the example below, what does `cp` do when given several filenames and a directory name?\n",
    "\n",
    "```bash\n",
    "$ mkdir backup\n",
    "$ cp amino-acids.txt animals.txt backup/\n",
    "```\n",
    "\n",
    "What does `cp` do when given three or more filenames?\n",
    "\n",
    "```bash\n",
    "$ ls\n",
    "amino-acids.txt  animals.txt  backup/  elements/  morse.txt  pdb/  planets.txt  salmon.txt  sunspot.txt\n",
    "$ cp amino-acids.txt animals.txt morse.txt\n",
    "```"
   ]
  },
  {
   "cell_type": "markdown",
   "metadata": {
    "slideshow": {
     "slide_type": "fragment"
    }
   },
   "source": [
    "1. When given multiple filenames followed by a directory all the files are copied into the directory."
   ]
  },
  {
   "cell_type": "markdown",
   "metadata": {
    "slideshow": {
     "slide_type": "fragment"
    }
   },
   "source": [
    "2. When give multiple filenames with no directory, `cp` throws an error:\n",
    "\n",
    "```bash\n",
    "cp: target morse.txt is not a directory\n",
    "```"
   ]
  },
  {
   "cell_type": "markdown",
   "metadata": {
    "slideshow": {
     "slide_type": "subslide"
    }
   },
   "source": [
    "#### Using wildcards for accessing multiple files at once\n",
    "\n",
    "`*` is a wildcard which matches zero or more characters.\n",
    "\n",
    "Consider the `data-shell/molecules` directory:"
   ]
  },
  {
   "cell_type": "code",
   "execution_count": null,
   "metadata": {
    "slideshow": {
     "slide_type": "fragment"
    }
   },
   "outputs": [],
   "source": [
    "ls molecules/*"
   ]
  },
  {
   "cell_type": "markdown",
   "metadata": {
    "slideshow": {
     "slide_type": "fragment"
    }
   },
   "source": [
    "This matches every file in the `molecules` directory."
   ]
  },
  {
   "cell_type": "code",
   "execution_count": null,
   "metadata": {
    "slideshow": {
     "slide_type": "fragment"
    }
   },
   "outputs": [],
   "source": [
    "ls molecules/*pdb"
   ]
  },
  {
   "cell_type": "markdown",
   "metadata": {
    "slideshow": {
     "slide_type": "fragment"
    }
   },
   "source": [
    "This matches every file in the `molecules` directory ending in `.pdb`."
   ]
  },
  {
   "cell_type": "code",
   "execution_count": null,
   "metadata": {
    "slideshow": {
     "slide_type": "fragment"
    }
   },
   "outputs": [],
   "source": [
    "ls molecules/p*.pdb"
   ]
  },
  {
   "cell_type": "markdown",
   "metadata": {
    "slideshow": {
     "slide_type": "fragment"
    }
   },
   "source": [
    "This matches all files in the `molecules` directory starting with `p` and ending with `.pdb`"
   ]
  },
  {
   "cell_type": "markdown",
   "metadata": {
    "slideshow": {
     "slide_type": "subslide"
    }
   },
   "source": [
    "#### Using wildcards for accessing multiple files at once (cont'd)\n",
    "\n",
    "`?` is a wildcard matching exactly one character."
   ]
  },
  {
   "cell_type": "code",
   "execution_count": null,
   "metadata": {
    "slideshow": {
     "slide_type": "fragment"
    }
   },
   "outputs": [],
   "source": [
    "ls molecules/?ethane.pdb"
   ]
  },
  {
   "cell_type": "markdown",
   "metadata": {
    "slideshow": {
     "slide_type": "fragment"
    }
   },
   "source": [
    "This matches any file in `molecules` that has one character followed by `ethane.pdb`. Compare to:"
   ]
  },
  {
   "cell_type": "code",
   "execution_count": null,
   "metadata": {
    "slideshow": {
     "slide_type": "fragment"
    }
   },
   "outputs": [],
   "source": [
    "ls molecules/*ethane.pdb"
   ]
  },
  {
   "cell_type": "markdown",
   "metadata": {
    "slideshow": {
     "slide_type": "fragment"
    }
   },
   "source": [
    "Which matches any file in `molecules` that ends in `ethane.pdb`."
   ]
  },
  {
   "cell_type": "markdown",
   "metadata": {
    "slideshow": {
     "slide_type": "subslide"
    }
   },
   "source": [
    "#### Using wildcards for accessing multiple files at once (cont'd)\n",
    "\n",
    "You can string wildcards together, too!"
   ]
  },
  {
   "cell_type": "code",
   "execution_count": null,
   "metadata": {
    "slideshow": {
     "slide_type": "fragment"
    }
   },
   "outputs": [],
   "source": [
    "ls molecules/???ane.pdb"
   ]
  },
  {
   "cell_type": "markdown",
   "metadata": {
    "slideshow": {
     "slide_type": "fragment"
    }
   },
   "source": [
    "This matches and file in `molecules` that has any three characters and ends in `ane.pdb`"
   ]
  },
  {
   "cell_type": "markdown",
   "metadata": {
    "slideshow": {
     "slide_type": "fragment"
    }
   },
   "source": [
    "Wildcards are said to be \"expanded\" to create a list of matching files. This happens **before** running the relevant command. For example, the following command will fail:"
   ]
  },
  {
   "cell_type": "code",
   "execution_count": null,
   "metadata": {
    "slideshow": {
     "slide_type": "fragment"
    }
   },
   "outputs": [],
   "source": [
    "ls molecules/*pdf"
   ]
  },
  {
   "cell_type": "markdown",
   "metadata": {
    "slideshow": {
     "slide_type": "subslide"
    }
   },
   "source": [
    "#### Exercise: List filenames matching a pattern\n",
    "\n",
    "When run in the `molecules` directory, which `ls` command(s) will produce this output?\n",
    "\n",
    "`ethane.pdb methane.pdb`\n",
    "\n",
    "1. `ls *t*ane.pdb`\n",
    "2. `ls *t?ne.*`\n",
    "3. `ls *t??ne.pdb`\n",
    "4. `ls ethane.*`"
   ]
  },
  {
   "cell_type": "markdown",
   "metadata": {
    "slideshow": {
     "slide_type": "fragment"
    }
   },
   "source": [
    "1. No: This will give `ethane.pdb methane.pdb octane.pdb pentane.pdb`"
   ]
  },
  {
   "cell_type": "markdown",
   "metadata": {
    "slideshow": {
     "slide_type": "fragment"
    }
   },
   "source": [
    "2. No: this will give `octane.pdb pentane.pdb`"
   ]
  },
  {
   "cell_type": "markdown",
   "metadata": {
    "slideshow": {
     "slide_type": "fragment"
    }
   },
   "source": [
    "3. Yes!"
   ]
  },
  {
   "cell_type": "markdown",
   "metadata": {
    "slideshow": {
     "slide_type": "fragment"
    }
   },
   "source": [
    "4. No: This only shows file starting with `ethane`"
   ]
  },
  {
   "cell_type": "markdown",
   "metadata": {
    "slideshow": {
     "slide_type": "subslide"
    }
   },
   "source": [
    "### Key points\n",
    "\n",
    "* `cp old new` copies a file\n",
    "* `mkdir path` creates a new directory\n",
    "* `mv old new` moves (renames) a file or directory\n",
    "* `rm path` removes (deletes) a file\n",
    "* `*` matches zero or more characters in a filename, so `*.txt` matches all files ending in `.txt`\n",
    "* `?` matches any single character in a filename, so `?.txt` matches `a.txt` but not `any.txt`\n",
    "* The shell does not have a trash bin: once something is deleted, it’s really gone"
   ]
  },
  {
   "cell_type": "markdown",
   "metadata": {
    "slideshow": {
     "slide_type": "slide"
    }
   },
   "source": [
    "## Summary\n",
    "\n",
    "* The bash shell is very powerful!\n",
    "* It offers a command-line interface to your computer and file system\n",
    "* It makes it easy to operate on files quickly and efficiently (copying, renaming, etc.)\n",
    "* Sequences of shell commands can be strung together to quickly and reproducibly make powerful pipelines"
   ]
  },
  {
   "cell_type": "markdown",
   "metadata": {
    "slideshow": {
     "slide_type": "subslide"
    }
   },
   "source": [
    "## Soapbox\n",
    "\n",
    "* Bash is *fantastic* and you will (likely) find yourself using it a lot!\n",
    "* However, for complex pipelines and programs I would _strongly_ encourage you to use a \"newer\" programming lanuage\n",
    "    * Like Python, which we will discuss tomorrow!\n",
    "* There are a number of reasons for this (e.g., better control flow, error handling, and debugging)"
   ]
  },
  {
   "cell_type": "markdown",
   "metadata": {
    "slideshow": {
     "slide_type": "slide"
    }
   },
   "source": [
    "# References\n",
    "\n",
    "There are lots of excellent resources online for learning more about bash:\n",
    "\n",
    "* The GNU Manual is *the* reference for all bash commands: http://www.gnu.org/manual/manual.html\n",
    "* \"Learning the Bash Shell\" book: http://shop.oreilly.com/product/9780596009656.do\n",
    "* An interactive on-line bash shell course: https://www.learnshell.org/"
   ]
  },
  {
   "cell_type": "markdown",
   "metadata": {
    "slideshow": {
     "slide_type": "slide"
    }
   },
   "source": [
    "## Finding Things\n",
    "\n",
    "Oftentimes, our file system can be quite complex, with sub-directories inside sub-directories inside sub-directories.\n",
    "\n",
    "What happens in we want to find one (or several) files, without having to type `ls` hundreds or thousands of times?\n",
    "\n",
    "First, let's navigate to the `data-shell/writing` directory:"
   ]
  },
  {
   "cell_type": "code",
   "execution_count": null,
   "metadata": {
    "slideshow": {
     "slide_type": "fragment"
    }
   },
   "outputs": [],
   "source": [
    "cd ~/Desktop/data-shell/writing"
   ]
  },
  {
   "cell_type": "markdown",
   "metadata": {
    "slideshow": {
     "slide_type": "fragment"
    }
   },
   "source": [
    "The directory structure of `data-shell/writing` looks like:\n",
    "\n",
    "<img src=\"http://swcarpentry.github.io/shell-novice/fig/find-file-tree.svg\">"
   ]
  },
  {
   "cell_type": "markdown",
   "metadata": {
    "slideshow": {
     "slide_type": "subslide"
    }
   },
   "source": [
    "Let's get our bearings with `ls`:"
   ]
  },
  {
   "cell_type": "code",
   "execution_count": null,
   "metadata": {
    "slideshow": {
     "slide_type": "fragment"
    }
   },
   "outputs": [],
   "source": [
    "ls"
   ]
  },
  {
   "cell_type": "markdown",
   "metadata": {
    "slideshow": {
     "slide_type": "fragment"
    }
   },
   "source": [
    "Unfortunately, this doesn't list any of the files in the sub-directories. Enter `find`:"
   ]
  },
  {
   "cell_type": "code",
   "execution_count": null,
   "metadata": {
    "slideshow": {
     "slide_type": "fragment"
    }
   },
   "outputs": [],
   "source": [
    "find ."
   ]
  },
  {
   "cell_type": "markdown",
   "metadata": {
    "slideshow": {
     "slide_type": "fragment"
    }
   },
   "source": [
    "Remember, `.` means \"the current working directory\". Here, `find` provides us a full list of the entire directory structure!"
   ]
  },
  {
   "cell_type": "markdown",
   "metadata": {
    "slideshow": {
     "slide_type": "fragment"
    }
   },
   "source": [
    "### Filtering `find`\n",
    "\n",
    "We can add some helpful options to `find` to filter things a bit:"
   ]
  },
  {
   "cell_type": "code",
   "execution_count": null,
   "metadata": {
    "slideshow": {
     "slide_type": "fragment"
    }
   },
   "outputs": [],
   "source": [
    "find . -type d"
   ]
  },
  {
   "cell_type": "markdown",
   "metadata": {
    "slideshow": {
     "slide_type": "fragment"
    }
   },
   "source": [
    "This will list only the **d**irectories underneath our current directory (incluing sub-directories).\n",
    "\n",
    "Alternatively, we can list only the **f**iles with:"
   ]
  },
  {
   "cell_type": "code",
   "execution_count": null,
   "metadata": {
    "slideshow": {
     "slide_type": "fragment"
    }
   },
   "outputs": [],
   "source": [
    "find . -type f"
   ]
  },
  {
   "cell_type": "markdown",
   "metadata": {
    "slideshow": {
     "slide_type": "fragment"
    }
   },
   "source": [
    "We can also match things by name:"
   ]
  },
  {
   "cell_type": "code",
   "execution_count": null,
   "metadata": {
    "slideshow": {
     "slide_type": "fragment"
    }
   },
   "outputs": [],
   "source": [
    "find . -name *.txt"
   ]
  },
  {
   "cell_type": "markdown",
   "metadata": {
    "slideshow": {
     "slide_type": "fragment"
    }
   },
   "source": [
    "Why didn't this also get the other files??\n",
    "\n",
    "Remember: wildcards are expanded BEFORE being passed to the command. So, we really want:"
   ]
  },
  {
   "cell_type": "code",
   "execution_count": null,
   "metadata": {
    "slideshow": {
     "slide_type": "fragment"
    }
   },
   "outputs": [],
   "source": [
    "find . -name \"*.txt\""
   ]
  },
  {
   "cell_type": "markdown",
   "metadata": {
    "slideshow": {
     "slide_type": "subslide"
    }
   },
   "source": [
    "### Executing with `find`\n",
    "\n",
    "What if we want to perform some operation on the output of our `find` command? Say, list the file sizes for each file (as in `ls -lh`)?\n",
    "\n",
    "We can do that with a bit of extra work:"
   ]
  },
  {
   "cell_type": "code",
   "execution_count": null,
   "metadata": {
    "slideshow": {
     "slide_type": "fragment"
    }
   },
   "outputs": [],
   "source": [
    "find . -name \"*.txt\" -exec ls -lh {} \\;"
   ]
  },
  {
   "cell_type": "markdown",
   "metadata": {
    "slideshow": {
     "slide_type": "fragment"
    }
   },
   "source": [
    "Note the **very funky syntax**:\n",
    "\n",
    "* The `-exec` option means **exec**ute the following command,\n",
    "* `ls -lh` is the command we want to execute,\n",
    "* `{}` signifies where the output of `find` should go so as to be provided to the command we're executing, and\n",
    "* `\\;` means \"this is the end of command we want to execute\""
   ]
  },
  {
   "cell_type": "markdown",
   "metadata": {
    "slideshow": {
     "slide_type": "fragment"
    }
   },
   "source": [
    "We can also \"pipe\" the output of `find` to the `ls -lh` command as follows:"
   ]
  },
  {
   "cell_type": "code",
   "execution_count": null,
   "metadata": {
    "slideshow": {
     "slide_type": "fragment"
    }
   },
   "outputs": [],
   "source": [
    "ls -lh $( find . -name \"*.txt\" )"
   ]
  },
  {
   "cell_type": "markdown",
   "metadata": {
    "slideshow": {
     "slide_type": "fragment"
    }
   },
   "source": [
    "Here, the `$( )` syntax means \"run this command first and insert it's output here\", so `ls -lh` is provided the output of the `find . -name \"*.txt\"` command as arguments."
   ]
  }
 ],
 "metadata": {
  "celltoolbar": "Slideshow",
  "kernelspec": {
   "display_name": "Bash",
   "language": "bash",
   "name": "bash"
  },
  "language_info": {
   "codemirror_mode": "shell",
   "file_extension": ".sh",
   "mimetype": "text/x-sh",
   "name": "bash"
  },
  "rise": {
   "scroll": "true"
  }
 },
 "nbformat": 4,
 "nbformat_minor": 2
}
